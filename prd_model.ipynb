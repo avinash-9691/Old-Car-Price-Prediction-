{
 "cells": [
  {
   "cell_type": "code",
   "execution_count": 27,
   "id": "15df5f8d-41c2-48c8-af48-53f2c07d6b5f",
   "metadata": {},
   "outputs": [],
   "source": [
    "import pickle\n",
    "import pandas as pd\n",
    "import numpy as np\n",
    "import warnings"
   ]
  },
  {
   "cell_type": "code",
   "execution_count": 28,
   "id": "7c3673ae-88be-4ac7-ac89-6f75ad4ec7d4",
   "metadata": {},
   "outputs": [],
   "source": [
    "warnings.filterwarnings(\"ignore\")"
   ]
  },
  {
   "cell_type": "code",
   "execution_count": 2,
   "id": "74546970-448a-43ea-aa65-06a7faffa8cf",
   "metadata": {},
   "outputs": [],
   "source": [
    "c= open(\"le_company_name.txt\",\"rb\")\n",
    "company_name = pickle.load(c)"
   ]
  },
  {
   "cell_type": "code",
   "execution_count": 3,
   "id": "63049593-031e-4dcb-b915-896d6b229f33",
   "metadata": {},
   "outputs": [],
   "source": [
    "f = open(\"le_fuel_type.txt\",'rb')\n",
    "fuel_type = pickle.load(f)"
   ]
  },
  {
   "cell_type": "code",
   "execution_count": 4,
   "id": "7c8a1d4b-5b25-4103-9e18-9b70d83851fc",
   "metadata": {},
   "outputs": [],
   "source": [
    "m = open(\"le_model_name.txt\",'rb')\n",
    "model_name = pickle.load(m)"
   ]
  },
  {
   "cell_type": "code",
   "execution_count": 5,
   "id": "ed818abf-0d27-4bf3-8310-27d6c64c8e38",
   "metadata": {},
   "outputs": [],
   "source": [
    "org = open(\"model.txt\",'rb')\n",
    "model = pickle.load(org)"
   ]
  },
  {
   "cell_type": "code",
   "execution_count": 6,
   "id": "67f93629-6c09-4563-be06-f903baaaf957",
   "metadata": {},
   "outputs": [],
   "source": [
    "o = open(\"owner_type_en.txt\",'rb')\n",
    "owner_type = pickle.load(o)"
   ]
  },
  {
   "cell_type": "code",
   "execution_count": 7,
   "id": "37ae8a47-bac3-41f4-88b5-13068486b8af",
   "metadata": {},
   "outputs": [],
   "source": [
    "s = open(\"ss.txt\",'rb')\n",
    "ss = pickle.load(s)"
   ]
  },
  {
   "cell_type": "code",
   "execution_count": 8,
   "id": "46e7a053-a846-401a-a603-da53435e61b8",
   "metadata": {},
   "outputs": [],
   "source": [
    "tr = open(\"transmission_en.txt\",'rb')\n",
    "transmission = pickle.load(tr)"
   ]
  },
  {
   "cell_type": "code",
   "execution_count": 9,
   "id": "a0f7087b-255f-44f5-9d3b-56400c726915",
   "metadata": {},
   "outputs": [],
   "source": [
    "v = open('variant_en.txt','rb')\n",
    "variant = pickle.load(v)"
   ]
  },
  {
   "cell_type": "code",
   "execution_count": null,
   "id": "4af5f923-eb07-4491-bbec-e626e7959f72",
   "metadata": {},
   "outputs": [],
   "source": []
  },
  {
   "cell_type": "code",
   "execution_count": 10,
   "id": "754b735a-4904-428b-9332-cfdbdf72cb01",
   "metadata": {},
   "outputs": [
    {
     "data": {
      "text/html": [
       "<div>\n",
       "<style scoped>\n",
       "    .dataframe tbody tr th:only-of-type {\n",
       "        vertical-align: middle;\n",
       "    }\n",
       "\n",
       "    .dataframe tbody tr th {\n",
       "        vertical-align: top;\n",
       "    }\n",
       "\n",
       "    .dataframe thead th {\n",
       "        text-align: right;\n",
       "    }\n",
       "</style>\n",
       "<table border=\"1\" class=\"dataframe\">\n",
       "  <thead>\n",
       "    <tr style=\"text-align: right;\">\n",
       "      <th></th>\n",
       "      <th>variant</th>\n",
       "      <th>km_driven</th>\n",
       "      <th>fuel_type</th>\n",
       "      <th>year_launch</th>\n",
       "      <th>company_name</th>\n",
       "      <th>model_name</th>\n",
       "      <th>Automatic</th>\n",
       "      <th>Manual</th>\n",
       "      <th>1st Owner</th>\n",
       "      <th>2nd Owner</th>\n",
       "      <th>price</th>\n",
       "    </tr>\n",
       "  </thead>\n",
       "  <tbody>\n",
       "    <tr>\n",
       "      <th>0</th>\n",
       "      <td>1.149891</td>\n",
       "      <td>2.353265</td>\n",
       "      <td>0.542427</td>\n",
       "      <td>-0.102014</td>\n",
       "      <td>2.054892</td>\n",
       "      <td>0.391774</td>\n",
       "      <td>-0.522849</td>\n",
       "      <td>0.522849</td>\n",
       "      <td>0.424017</td>\n",
       "      <td>-0.424017</td>\n",
       "      <td>650000</td>\n",
       "    </tr>\n",
       "  </tbody>\n",
       "</table>\n",
       "</div>"
      ],
      "text/plain": [
       "    variant  km_driven  fuel_type  year_launch  company_name  model_name  \\\n",
       "0  1.149891   2.353265   0.542427    -0.102014      2.054892    0.391774   \n",
       "\n",
       "   Automatic    Manual  1st Owner  2nd Owner   price  \n",
       "0  -0.522849  0.522849   0.424017  -0.424017  650000  "
      ]
     },
     "execution_count": 10,
     "metadata": {},
     "output_type": "execute_result"
    }
   ],
   "source": [
    "prd_data = pd.read_csv('car_data_ml.csv')\n",
    "prd_data.head(1)"
   ]
  },
  {
   "cell_type": "code",
   "execution_count": 10,
   "id": "1e1623cb-3be3-4ec9-a608-aabbd3eb5f61",
   "metadata": {},
   "outputs": [],
   "source": [
    "car_name\t     variant\t transmission\tkm_driven\towner_type\t fuel_type\tregisteration\n",
    "2018 Tata NEXON\t XM 1.2\t      Manual\t     95,230 km\t 1st Owner\t Petrol\t        UP-16"
   ]
  },
  {
   "cell_type": "code",
   "execution_count": null,
   "id": "3f431c00-8cdf-48cc-b607-fcfe44ac7146",
   "metadata": {},
   "outputs": [],
   "source": []
  },
  {
   "cell_type": "code",
   "execution_count": null,
   "id": "5abaaadb-61b3-438f-b441-0b37b4162fc2",
   "metadata": {},
   "outputs": [],
   "source": []
  },
  {
   "cell_type": "code",
   "execution_count": null,
   "id": "d4b6c590-053e-42a3-8ac6-40a498643710",
   "metadata": {},
   "outputs": [],
   "source": [
    "variant1 = input(\"enter your variant : \")\n",
    "km_driven1 = int(input(\"enter your km_driven : \"))\n",
    "fuel_type1 = input(\"enter your fuel_type : \")\n",
    "year_launch1 = int(input(\"enter your year_launch : \"))\n",
    "company_name1 = input(\"enter your company_name : \")\n",
    "model_name1 = input(\"enter your model_name : \")\n",
    "Automatic1 = input(\"enter your Automatic : \")\n",
    "Owner1 = input(\"enter your Owner : \")\n",
    "\n",
    "var = variant.transform([variant1])\n",
    "fuel = fuel_type.transform([fuel_type1])\n",
    "company = company_name.transform([company_name1])\n",
    "model_n = model_name.transform([model_name1])\n",
    "A = np.array([[Automatic1]])\n",
    "auto = transmission.transform(A).toarray()\n",
    "on = np.array([[Owner1]])\n",
    "owner = owner_type.transform(on).toarray()\n",
    "\n",
    "d1 = pd.DataFrame({\"variant\":var,\"km_driven\":km_driven1,\"fuel_type\":fuel,\"year_launch\":year_launch1\t,\n",
    "                   \"company_name\":company,\t\"model_name\":model_n})\n",
    "d2 = pd.DataFrame(auto,columns=[\"Automatic\",\"Manual\"])\n",
    "d3 = pd.DataFrame(owner,columns=[\"1st Owner\",\"2nd Owner\"])\n",
    "final_data = pd.concat((d1,d2,d3),axis=1)\n",
    "final_data_set = ss.transform(final_data)\n",
    "\n",
    "result = model.predict(final_data_set)\n",
    "print(\"prediction Price : \", result[0])"
   ]
  },
  {
   "cell_type": "code",
   "execution_count": null,
   "id": "33efcdb6-4aa4-4d9e-987c-57e652972d89",
   "metadata": {},
   "outputs": [],
   "source": [
    "car_name\t     variant\t transmission\tkm_driven\towner_type\t fuel_type\tregisteration\n",
    "2018 Tata NEXON\t XM 1.2\t      Manual\t     95,230 km\t 1st Owner\t Petrol\t        UP-16"
   ]
  },
  {
   "cell_type": "code",
   "execution_count": null,
   "id": "b60e4f86-6a97-4a46-94e5-68f48efc4b0d",
   "metadata": {},
   "outputs": [],
   "source": []
  }
 ],
 "metadata": {
  "kernelspec": {
   "display_name": "Python 3 (ipykernel)",
   "language": "python",
   "name": "python3"
  },
  "language_info": {
   "codemirror_mode": {
    "name": "ipython",
    "version": 3
   },
   "file_extension": ".py",
   "mimetype": "text/x-python",
   "name": "python",
   "nbconvert_exporter": "python",
   "pygments_lexer": "ipython3",
   "version": "3.12.2"
  }
 },
 "nbformat": 4,
 "nbformat_minor": 5
}
