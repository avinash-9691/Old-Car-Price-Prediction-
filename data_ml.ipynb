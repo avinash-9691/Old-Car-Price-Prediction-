{
 "cells": [
  {
   "cell_type": "code",
   "execution_count": 1,
   "id": "0ccf4067-3d06-4c09-b583-9ce605750c4c",
   "metadata": {},
   "outputs": [],
   "source": [
    "import pandas as pd\n",
    "from sklearn.model_selection import train_test_split\n",
    "import seaborn as sns\n",
    "import matplotlib.pyplot as plt"
   ]
  },
  {
   "cell_type": "code",
   "execution_count": 2,
   "id": "06aabbba-b3d4-4861-b943-c83fc20ef497",
   "metadata": {},
   "outputs": [],
   "source": [
    "dataset = pd.read_csv(\"car_data_ml.csv\")"
   ]
  },
  {
   "cell_type": "code",
   "execution_count": 3,
   "id": "717f5305-0a00-4f23-9349-3ad2108e8d7f",
   "metadata": {},
   "outputs": [
    {
     "data": {
      "text/html": [
       "<div>\n",
       "<style scoped>\n",
       "    .dataframe tbody tr th:only-of-type {\n",
       "        vertical-align: middle;\n",
       "    }\n",
       "\n",
       "    .dataframe tbody tr th {\n",
       "        vertical-align: top;\n",
       "    }\n",
       "\n",
       "    .dataframe thead th {\n",
       "        text-align: right;\n",
       "    }\n",
       "</style>\n",
       "<table border=\"1\" class=\"dataframe\">\n",
       "  <thead>\n",
       "    <tr style=\"text-align: right;\">\n",
       "      <th></th>\n",
       "      <th>variant</th>\n",
       "      <th>km_driven</th>\n",
       "      <th>fuel_type</th>\n",
       "      <th>year_launch</th>\n",
       "      <th>company_name</th>\n",
       "      <th>model_name</th>\n",
       "      <th>Automatic</th>\n",
       "      <th>Manual</th>\n",
       "      <th>1st Owner</th>\n",
       "      <th>2nd Owner</th>\n",
       "      <th>price</th>\n",
       "    </tr>\n",
       "  </thead>\n",
       "  <tbody>\n",
       "    <tr>\n",
       "      <th>0</th>\n",
       "      <td>1.149891</td>\n",
       "      <td>2.353265</td>\n",
       "      <td>0.542427</td>\n",
       "      <td>-0.102014</td>\n",
       "      <td>2.054892</td>\n",
       "      <td>0.391774</td>\n",
       "      <td>-0.522849</td>\n",
       "      <td>0.522849</td>\n",
       "      <td>0.424017</td>\n",
       "      <td>-0.424017</td>\n",
       "      <td>650000</td>\n",
       "    </tr>\n",
       "  </tbody>\n",
       "</table>\n",
       "</div>"
      ],
      "text/plain": [
       "    variant  km_driven  fuel_type  year_launch  company_name  model_name  \\\n",
       "0  1.149891   2.353265   0.542427    -0.102014      2.054892    0.391774   \n",
       "\n",
       "   Automatic    Manual  1st Owner  2nd Owner   price  \n",
       "0  -0.522849  0.522849   0.424017  -0.424017  650000  "
      ]
     },
     "execution_count": 3,
     "metadata": {},
     "output_type": "execute_result"
    }
   ],
   "source": [
    "dataset.head(1)"
   ]
  },
  {
   "cell_type": "code",
   "execution_count": null,
   "id": "00b9317e-9a9e-4f5b-996f-b26f973cf64b",
   "metadata": {},
   "outputs": [],
   "source": []
  },
  {
   "cell_type": "markdown",
   "id": "d55e37db-fa6c-44a9-aa8d-3aad3960f212",
   "metadata": {},
   "source": [
    "#  train test split"
   ]
  },
  {
   "cell_type": "code",
   "execution_count": 4,
   "id": "f95b6ac1-8025-4e46-947c-e814cdf85ebf",
   "metadata": {},
   "outputs": [],
   "source": [
    "input_data = dataset.iloc[:,:-1]\n",
    "output_data = dataset['price']"
   ]
  },
  {
   "cell_type": "code",
   "execution_count": 5,
   "id": "83487516-8bcc-4615-9e4d-b5516195538e",
   "metadata": {},
   "outputs": [],
   "source": [
    "x_train , x_test , y_train , y_test = train_test_split(input_data,output_data,test_size=0.2,random_state=42)"
   ]
  },
  {
   "cell_type": "markdown",
   "id": "133efc2d-cceb-4f9e-a2e3-a8d5817c9dc1",
   "metadata": {},
   "source": [
    "# model"
   ]
  },
  {
   "cell_type": "code",
   "execution_count": 6,
   "id": "b31349f7-8619-4c3c-a4a9-524252e181f0",
   "metadata": {},
   "outputs": [],
   "source": [
    "# plt.figure(figsize=(10,10))\n",
    "# sns.heatmap(data=dataset.corr(),annot=True)\n",
    "# plt.show()"
   ]
  },
  {
   "cell_type": "code",
   "execution_count": 7,
   "id": "bff2b0f9-3424-4cc7-9799-7839b5f85e52",
   "metadata": {},
   "outputs": [],
   "source": [
    "from sklearn.tree import DecisionTreeRegressor\n",
    "from sklearn.neighbors import KNeighborsRegressor\n",
    "from sklearn.svm import SVR\n",
    "from sklearn.ensemble import RandomForestRegressor , BaggingRegressor  , AdaBoostRegressor"
   ]
  },
  {
   "cell_type": "code",
   "execution_count": 8,
   "id": "3192dd74-1829-4937-ad93-efa276664273",
   "metadata": {},
   "outputs": [],
   "source": [
    "# abr = AdaBoostRegressor(estimator=DecisionTreeRegressor())\n",
    "# abr.fit(x_train,y_train)\n",
    "# abr.score(x_train,y_train) , abr.score(x_test,y_test)"
   ]
  },
  {
   "cell_type": "code",
   "execution_count": 9,
   "id": "a270f338-5612-4f1e-9c3e-686f0eaf032d",
   "metadata": {},
   "outputs": [],
   "source": [
    "# abr1 = AdaBoostRegressor(estimator=KNeighborsRegressor())\n",
    "# abr1.fit(x_train,y_train)\n",
    "# abr1.score(x_train,y_train) , abr1.score(x_test,y_test)"
   ]
  },
  {
   "cell_type": "code",
   "execution_count": 10,
   "id": "6aae4550-c011-4726-b1f8-29d97fec4cda",
   "metadata": {},
   "outputs": [],
   "source": [
    "# dt = DecisionTreeRegressor()\n",
    "# dt.fit(x_train,y_train)\n",
    "# dt.score(x_train,y_train) , dt.score(x_test,y_test)"
   ]
  },
  {
   "cell_type": "code",
   "execution_count": 11,
   "id": "d4fa017e-8ba0-4678-918f-8e4ac251376a",
   "metadata": {},
   "outputs": [],
   "source": [
    "# bgr = BaggingRegressor(estimator=KNeighborsRegressor())\n",
    "# bgr.fit(x_train,y_train)\n",
    "# bgr.score(x_train,y_train) , bgr.score(x_test,y_test)"
   ]
  },
  {
   "cell_type": "code",
   "execution_count": 12,
   "id": "083262d8-caba-4a5b-84ba-a1e10b12b1ed",
   "metadata": {},
   "outputs": [],
   "source": [
    "# rfr = RandomForestRegressor()\n",
    "# rfr.fit(x_train,y_train)\n",
    "# rfr.score(x_train,y_train) , rfr.score(x_test,y_test)"
   ]
  },
  {
   "cell_type": "code",
   "execution_count": 13,
   "id": "46746057-2ced-480a-85b7-141551f13634",
   "metadata": {},
   "outputs": [],
   "source": [
    "# knn = KNeighborsRegressor()\n",
    "# knn.fit(x_train,y_train)\n",
    "# knn.score(x_train,y_train) , knn.score(x_test,y_test)"
   ]
  },
  {
   "cell_type": "code",
   "execution_count": 14,
   "id": "0f98583c-b0bf-400a-b0da-2f4981a9ca5a",
   "metadata": {},
   "outputs": [],
   "source": [
    "# # 'linear', 'poly', 'rbf', 'sigmoid', 'precomputed'\n",
    "# svr = SVR(kernel=\"rbf\")\n",
    "# svr.fit(x_train,y_train)\n",
    "# svr.score(x_train,y_train) , svr.score(x_test,y_test)"
   ]
  },
  {
   "cell_type": "code",
   "execution_count": null,
   "id": "a91cd56e-6fe4-417a-b0b2-e0a5b516cff1",
   "metadata": {},
   "outputs": [],
   "source": []
  },
  {
   "cell_type": "markdown",
   "id": "e34cd5bb-c030-4fd6-b13e-13c7c60844b0",
   "metadata": {},
   "source": [
    "# final model"
   ]
  },
  {
   "cell_type": "code",
   "execution_count": 15,
   "id": "70622666-4b0a-48b2-9e92-a9859823cf86",
   "metadata": {},
   "outputs": [
    {
     "data": {
      "text/plain": [
       "(0.9984539266172352, 0.7834901699253702)"
      ]
     },
     "execution_count": 15,
     "metadata": {},
     "output_type": "execute_result"
    }
   ],
   "source": [
    "abr = AdaBoostRegressor(estimator=DecisionTreeRegressor())\n",
    "abr.fit(x_train,y_train)\n",
    "abr.score(x_train,y_train) , abr.score(x_test,y_test)"
   ]
  },
  {
   "cell_type": "code",
   "execution_count": null,
   "id": "025b2175-85df-414c-a229-113f4c5971d4",
   "metadata": {},
   "outputs": [],
   "source": []
  },
  {
   "cell_type": "markdown",
   "id": "9b8f8fe1-7894-401d-a2a7-9ca0d3071955",
   "metadata": {},
   "source": [
    "# hyper parameter"
   ]
  },
  {
   "cell_type": "code",
   "execution_count": 30,
   "id": "7b3c34ec-1ac6-4e90-bff3-c265274a1498",
   "metadata": {},
   "outputs": [
    {
     "data": {
      "text/plain": [
       "(0.8722872097839978, 0.7565640342881164)"
      ]
     },
     "execution_count": 30,
     "metadata": {},
     "output_type": "execute_result"
    }
   ],
   "source": [
    "abr = AdaBoostRegressor(estimator=DecisionTreeRegressor(max_depth=5),n_estimators=100)\n",
    "abr.fit(x_train,y_train)\n",
    "abr.score(x_train,y_train) , abr.score(x_test,y_test)"
   ]
  },
  {
   "cell_type": "code",
   "execution_count": 17,
   "id": "876dfa8e-c7b6-4e5e-8843-2aa68ff1a80f",
   "metadata": {},
   "outputs": [],
   "source": [
    "# par = { \"n_estimators\":[i for i in range(2,100)],\n",
    "#     \"learning_rate\": [0.1,0.01],\n",
    "#     \"loss\":['linear', 'square', 'exponential']}"
   ]
  },
  {
   "cell_type": "code",
   "execution_count": 18,
   "id": "f7f84dff-4e1e-4cb0-838b-0ae18c019d1b",
   "metadata": {},
   "outputs": [],
   "source": [
    "# from sklearn.model_selection import GridSearchCV"
   ]
  },
  {
   "cell_type": "code",
   "execution_count": 19,
   "id": "1b15a91f-4462-44b8-ac39-70ead4317b67",
   "metadata": {},
   "outputs": [],
   "source": [
    "# gd = GridSearchCV(estimator=AdaBoostRegressor(estimator=DecisionTreeRegressor()),\n",
    "#                  param_grid=par,\n",
    "#                  cv=5)\n",
    "# gd.fit(x_train,y_train)"
   ]
  },
  {
   "cell_type": "code",
   "execution_count": 31,
   "id": "af83ee71-0646-4a41-8835-2ef7221db642",
   "metadata": {},
   "outputs": [
    {
     "data": {
      "text/plain": [
       "(0.8633489435011871, 0.7267811536237659)"
      ]
     },
     "execution_count": 31,
     "metadata": {},
     "output_type": "execute_result"
    }
   ],
   "source": [
    "abr = AdaBoostRegressor(estimator=DecisionTreeRegressor(max_depth=5),n_estimators=100)\n",
    "abr.fit(x_train,y_train)\n",
    "abr.score(x_train,y_train) , abr.score(x_test,y_test)"
   ]
  },
  {
   "cell_type": "code",
   "execution_count": null,
   "id": "1b55e92c-184b-4ab8-8162-faade0167c71",
   "metadata": {},
   "outputs": [],
   "source": []
  },
  {
   "cell_type": "code",
   "execution_count": 32,
   "id": "b06eec7e-80de-4abf-8fe1-841d3a01441c",
   "metadata": {},
   "outputs": [],
   "source": [
    "import pickle"
   ]
  },
  {
   "cell_type": "code",
   "execution_count": null,
   "id": "8d7dbf7f-bea1-437b-8d63-94a934f2eea2",
   "metadata": {},
   "outputs": [],
   "source": [
    "p = open(\"car_model.txt\",)"
   ]
  },
  {
   "cell_type": "code",
   "execution_count": null,
   "id": "052ed37e-7da6-4882-b0d9-7fb42b87c923",
   "metadata": {},
   "outputs": [],
   "source": []
  }
 ],
 "metadata": {
  "kernelspec": {
   "display_name": "Python 3 (ipykernel)",
   "language": "python",
   "name": "python3"
  },
  "language_info": {
   "codemirror_mode": {
    "name": "ipython",
    "version": 3
   },
   "file_extension": ".py",
   "mimetype": "text/x-python",
   "name": "python",
   "nbconvert_exporter": "python",
   "pygments_lexer": "ipython3",
   "version": "3.12.2"
  }
 },
 "nbformat": 4,
 "nbformat_minor": 5
}
