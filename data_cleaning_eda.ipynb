{
 "cells": [
  {
   "cell_type": "code",
   "execution_count": 26,
   "id": "789251d2-5bf2-4fef-8a58-6b3b2af40175",
   "metadata": {},
   "outputs": [],
   "source": [
    "import pandas as pd\n",
    "import warnings "
   ]
  },
  {
   "cell_type": "code",
   "execution_count": 23,
   "id": "3e34c799-f2fe-40f6-a66a-85633c98fc7a",
   "metadata": {},
   "outputs": [],
   "source": [
    "warnings.filterwarnings('ignore')"
   ]
  },
  {
   "cell_type": "code",
   "execution_count": 2,
   "id": "a06b5f78-142f-4f22-bc2e-37be23056139",
   "metadata": {},
   "outputs": [],
   "source": [
    "dataset = pd.read_csv('cars_delhi.csv')"
   ]
  },
  {
   "cell_type": "code",
   "execution_count": 18,
   "id": "a3503ee5-9f08-428e-af17-333df5a80035",
   "metadata": {},
   "outputs": [
    {
     "data": {
      "text/html": [
       "<div>\n",
       "<style scoped>\n",
       "    .dataframe tbody tr th:only-of-type {\n",
       "        vertical-align: middle;\n",
       "    }\n",
       "\n",
       "    .dataframe tbody tr th {\n",
       "        vertical-align: top;\n",
       "    }\n",
       "\n",
       "    .dataframe thead th {\n",
       "        text-align: right;\n",
       "    }\n",
       "</style>\n",
       "<table border=\"1\" class=\"dataframe\">\n",
       "  <thead>\n",
       "    <tr style=\"text-align: right;\">\n",
       "      <th></th>\n",
       "      <th>variant</th>\n",
       "      <th>transmission</th>\n",
       "      <th>km_driven</th>\n",
       "      <th>owner_type</th>\n",
       "      <th>fuel_type</th>\n",
       "      <th>registeration</th>\n",
       "      <th>price</th>\n",
       "      <th>year_launch</th>\n",
       "      <th>company_name</th>\n",
       "      <th>model_name</th>\n",
       "    </tr>\n",
       "  </thead>\n",
       "  <tbody>\n",
       "    <tr>\n",
       "      <th>0</th>\n",
       "      <td>XM 1.2</td>\n",
       "      <td>Manual</td>\n",
       "      <td>95230</td>\n",
       "      <td>1st Owner</td>\n",
       "      <td>Petrol</td>\n",
       "      <td>UP-16</td>\n",
       "      <td>650000</td>\n",
       "      <td>2018</td>\n",
       "      <td>Tata</td>\n",
       "      <td>NEXON</td>\n",
       "    </tr>\n",
       "  </tbody>\n",
       "</table>\n",
       "</div>"
      ],
      "text/plain": [
       "  variant transmission  km_driven owner_type fuel_type registeration   price  \\\n",
       "0  XM 1.2       Manual      95230  1st Owner    Petrol         UP-16  650000   \n",
       "\n",
       "   year_launch company_name model_name  \n",
       "0         2018         Tata      NEXON  "
      ]
     },
     "execution_count": 18,
     "metadata": {},
     "output_type": "execute_result"
    }
   ],
   "source": [
    "dataset.head(1)"
   ]
  },
  {
   "cell_type": "markdown",
   "id": "e39bef41-2bd5-452a-a129-4ccaef1af600",
   "metadata": {},
   "source": [
    "# car_name"
   ]
  },
  {
   "cell_type": "code",
   "execution_count": 4,
   "id": "fcdddf80-e265-44ea-952e-8c7f31e618b0",
   "metadata": {},
   "outputs": [],
   "source": [
    "def year_launch(data):\n",
    "    data = data.split(\" \")\n",
    "    return int(data[0])\n",
    "def car_company_name(data):\n",
    "    data = data.split(\" \")\n",
    "    return data[1]  \n",
    "def model_name(data):\n",
    "    data = data.split(\" \")\n",
    "    return data[2]  "
   ]
  },
  {
   "cell_type": "code",
   "execution_count": 5,
   "id": "02e4ab94-565f-4e45-a312-8a9137969604",
   "metadata": {},
   "outputs": [],
   "source": [
    "dataset['year_launch'] = dataset['car_name'].apply(year_launch)\n",
    "dataset['company_name'] = dataset['car_name'].apply(car_company_name)\n",
    "dataset['model_name'] = dataset['car_name'].apply(model_name)"
   ]
  },
  {
   "cell_type": "code",
   "execution_count": 7,
   "id": "7faaa4cc-aef7-4726-ab14-507f564b6600",
   "metadata": {},
   "outputs": [],
   "source": [
    "dataset.drop(columns=['car_name'],inplace=True)"
   ]
  },
  {
   "cell_type": "code",
   "execution_count": 8,
   "id": "f34505ef-80c5-4a9a-b0cc-d8d4e5a0178d",
   "metadata": {},
   "outputs": [
    {
     "data": {
      "text/plain": [
       "Index(['variant', 'transmission', 'km_driven', 'owner_type', 'fuel_type',\n",
       "       'registeration', 'price', 'year_launch', 'company_name', 'model_name'],\n",
       "      dtype='object')"
      ]
     },
     "execution_count": 8,
     "metadata": {},
     "output_type": "execute_result"
    }
   ],
   "source": [
    "dataset.columns"
   ]
  },
  {
   "cell_type": "code",
   "execution_count": null,
   "id": "b00defa5-1450-4768-b542-941fdd4014dd",
   "metadata": {},
   "outputs": [],
   "source": []
  },
  {
   "cell_type": "markdown",
   "id": "b2c38f89-f963-45bb-b2b7-888f5956bf93",
   "metadata": {
    "jp-MarkdownHeadingCollapsed": true
   },
   "source": [
    "# km_driven"
   ]
  },
  {
   "cell_type": "code",
   "execution_count": 10,
   "id": "03f232f1-eba8-4012-a4cc-3811c8df1feb",
   "metadata": {},
   "outputs": [],
   "source": [
    "dataset['km_driven'] = dataset['km_driven'].str.replace(\",\",\"\")\n",
    "dataset['km_driven'] = dataset['km_driven'].str.replace(\" km\",\"\")"
   ]
  },
  {
   "cell_type": "code",
   "execution_count": 13,
   "id": "04d5d8a7-b74f-4ac5-8f10-521807a58f35",
   "metadata": {},
   "outputs": [],
   "source": [
    "dataset['km_driven']  = dataset['km_driven'].astype(\"int\")"
   ]
  },
  {
   "cell_type": "code",
   "execution_count": null,
   "id": "b9dabaa3-80aa-466f-98ad-1ad6bd8630a6",
   "metadata": {},
   "outputs": [],
   "source": []
  },
  {
   "cell_type": "markdown",
   "id": "a6a9e140-9c85-45fc-b909-aac86387b6cf",
   "metadata": {
    "jp-MarkdownHeadingCollapsed": true
   },
   "source": [
    "# price"
   ]
  },
  {
   "cell_type": "code",
   "execution_count": 15,
   "id": "d30d91d5-a79a-4f34-b02d-703b95ee248b",
   "metadata": {},
   "outputs": [],
   "source": [
    "dataset['price'] = dataset['price'].str.replace(\",\",\"\")\n",
    "dataset['price'] = dataset['price'].str.replace(\"₹\",\"\")\n",
    "dataset['price']  = dataset['price'].astype(\"int\")"
   ]
  },
  {
   "cell_type": "code",
   "execution_count": null,
   "id": "dac587aa-1a92-4c5e-b97b-95f35ccba470",
   "metadata": {},
   "outputs": [],
   "source": []
  },
  {
   "cell_type": "markdown",
   "id": "decbc8f3-e3b1-4366-b9a9-9c3d419d3da3",
   "metadata": {},
   "source": [
    "# missing value"
   ]
  },
  {
   "cell_type": "code",
   "execution_count": 19,
   "id": "3879f98e-05bc-4f8d-8110-7e77a259b8df",
   "metadata": {},
   "outputs": [
    {
     "data": {
      "text/plain": [
       "variant          0\n",
       "transmission     5\n",
       "km_driven        0\n",
       "owner_type       0\n",
       "fuel_type        0\n",
       "registeration    0\n",
       "price            0\n",
       "year_launch      0\n",
       "company_name     0\n",
       "model_name       0\n",
       "dtype: int64"
      ]
     },
     "execution_count": 19,
     "metadata": {},
     "output_type": "execute_result"
    }
   ],
   "source": [
    "dataset.isnull().sum()"
   ]
  },
  {
   "cell_type": "code",
   "execution_count": null,
   "id": "03989d4a-d85e-4826-a1a1-a2f52e456e2a",
   "metadata": {},
   "outputs": [],
   "source": []
  },
  {
   "cell_type": "markdown",
   "id": "4599c65d-62cc-440f-b299-9e832762c506",
   "metadata": {},
   "source": [
    "# transmission"
   ]
  },
  {
   "cell_type": "code",
   "execution_count": 24,
   "id": "cb5be972-a603-443f-8d74-cba687eb48b1",
   "metadata": {},
   "outputs": [],
   "source": [
    "dataset['transmission'].fillna(dataset['transmission'].mode()[0],inplace=True)"
   ]
  },
  {
   "cell_type": "code",
   "execution_count": null,
   "id": "47e2ae97-8d39-4e56-a07a-1e23ca783f38",
   "metadata": {},
   "outputs": [],
   "source": []
  },
  {
   "cell_type": "markdown",
   "id": "a24297a3-f55f-40a3-ba27-5428a66bca25",
   "metadata": {},
   "source": [
    "# make data for EDA"
   ]
  },
  {
   "cell_type": "code",
   "execution_count": 25,
   "id": "ffda262a-4699-4520-b416-b5f3cc085341",
   "metadata": {},
   "outputs": [],
   "source": [
    "dataset.to_csv(\"cars_delhi_eda.csv\",index=False)"
   ]
  },
  {
   "cell_type": "code",
   "execution_count": null,
   "id": "1ee88011-dd7c-4dc1-9c5b-6abc8821869d",
   "metadata": {},
   "outputs": [],
   "source": []
  }
 ],
 "metadata": {
  "kernelspec": {
   "display_name": "Python 3 (ipykernel)",
   "language": "python",
   "name": "python3"
  },
  "language_info": {
   "codemirror_mode": {
    "name": "ipython",
    "version": 3
   },
   "file_extension": ".py",
   "mimetype": "text/x-python",
   "name": "python",
   "nbconvert_exporter": "python",
   "pygments_lexer": "ipython3",
   "version": "3.12.2"
  }
 },
 "nbformat": 4,
 "nbformat_minor": 5
}
